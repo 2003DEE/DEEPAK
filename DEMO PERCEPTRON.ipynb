{
  "nbformat": 4,
  "nbformat_minor": 0,
  "metadata": {
    "colab": {
      "provenance": [],
      "authorship_tag": "ABX9TyM7EC40RxXOD/gICE4kMALv",
      "include_colab_link": true
    },
    "kernelspec": {
      "name": "python3",
      "display_name": "Python 3"
    },
    "language_info": {
      "name": "python"
    }
  },
  "cells": [
    {
      "cell_type": "markdown",
      "metadata": {
        "id": "view-in-github",
        "colab_type": "text"
      },
      "source": [
        "<a href=\"https://colab.research.google.com/github/2003DEE/DEEPAK/blob/main/DEMO%20PERCEPTRON.ipynb\" target=\"_parent\"><img src=\"https://colab.research.google.com/assets/colab-badge.svg\" alt=\"Open In Colab\"/></a>"
      ]
    },
    {
      "cell_type": "code",
      "execution_count": 75,
      "metadata": {
        "id": "V-c3MdFcIOHa"
      },
      "outputs": [],
      "source": [
        "import numpy as np\n",
        "from matplotlib import pyplot as plt\n",
        "%matplotlib inline"
      ]
    },
    {
      "cell_type": "code",
      "source": [
        "def perceptron_plot(DATA1,label):\n",
        "  w=np.zeros(len(DATA1[0]))\n",
        "  b=1\n",
        "  n=20\n",
        "  error=[]\n",
        "  sum_error=0\n",
        "  for i in range(n):\n",
        "    for i,x in enumerate(DATA1):\n",
        "      if (np.dot(DATA1[i],w)*label[i])<=0:\n",
        "        sum_error+=(np.dot(DATA1[i],w)*label[i])\n",
        "        w=w+b*DATA1[i]*label[i]\n",
        "    error.append(sum_error*-1)\n",
        "  plt.plot(error)\n",
        "  plt.xlabel('epoch')\n",
        "  plt.ylabel('Totalloss')\n",
        "  return w\n"
      ],
      "metadata": {
        "id": "Goo2eRR_K9jS"
      },
      "execution_count": 210,
      "outputs": []
    },
    {
      "cell_type": "code",
      "source": [
        "w=perceptron_plot(DATA1,label)"
      ],
      "metadata": {
        "colab": {
          "base_uri": "https://localhost:8080/",
          "height": 279
        },
        "id": "NZzLhXBZiR5-",
        "outputId": "b0e9252b-12ad-4f8f-ea75-a877be4cc82b"
      },
      "execution_count": 211,
      "outputs": [
        {
          "output_type": "display_data",
          "data": {
            "text/plain": [
              "<Figure size 432x288 with 1 Axes>"
            ],
            "image/png": "[encoded data removed]"
          },
          "metadata": {
            "needs_background": "light"
          }
        }
      ]
    },
    {
      "cell_type": "code",
      "source": [
        "for i,x in enumerate(DATA1):\n",
        "  if i<130:\n",
        "    plt.scatter(x[0],x[1],s=120,marker=\"_\",linewidths=2)\n",
        "  else:\n",
        "    plt.scatter(x[0],x[1],s=120,marker=\"+\",linewidths=2)\n",
        "x2 = [w[0], w[5], -w[5], w[0]]\n",
        "x3 = [w[0], w[5], w[5], -w[0]]\n",
        "\n",
        "x2x3 = np.array([x2, x3])\n",
        "X, Y, U, V = zip(*x2x3)\n",
        "ax = plt.gca()\n",
        "ax.quiver(X, Y, U, V, scale=1, color='blue')"
      ],
      "metadata": {
        "colab": {
          "base_uri": "https://localhost:8080/",
          "height": 283
        },
        "id": "1kv35lvOkPRg",
        "outputId": "36858d7f-348c-4501-ed39-24bb2978c138"
      },
      "execution_count": 212,
      "outputs": [
        {
          "output_type": "execute_result",
          "data": {
            "text/plain": [
              "<matplotlib.quiver.Quiver at 0x7f8683512100>"
            ]
          },
          "metadata": {},
          "execution_count": 212
        },
        {
          "output_type": "display_data",
          "data": {
            "text/plain": [
              "<Figure size 432x288 with 1 Axes>"
            ],
            "image/png": "[encoded data removed]"
          },
          "metadata": {
            "needs_background": "light"
          }
        }
      ]
    },
    {
      "cell_type": "code",
      "source": [
        "import pandas as pd\n",
        "data=pd.read_csv('/sonar.all-data.csv')\n",
        "DATA1=data.iloc[:-1,:-1].values\n",
        "print(DATA1)\n",
        "'''\n",
        "from sklearn.preprocessing import LabelEncoder\n",
        "en=LabelEncoder()\n",
        "DATA[:,1]=en.fit_transform(DATA[:,1])\n",
        "'''\n"
      ],
      "metadata": {
        "colab": {
          "base_uri": "https://localhost:8080/",
          "height": 182
        },
        "id": "IrTPQ23-IgeB",
        "outputId": "5a42b16b-f013-40de-cb75-49f08d8b0d0b"
      },
      "execution_count": 184,
      "outputs": [
        {
          "output_type": "stream",
          "name": "stdout",
          "text": [
            "[[0.0453 0.0523 0.0843 ... 0.0049 0.0052 0.0044]\n",
            " [0.0262 0.0582 0.1099 ... 0.0164 0.0095 0.0078]\n",
            " [0.01   0.0171 0.0623 ... 0.0044 0.004  0.0117]\n",
            " ...\n",
            " [0.0323 0.0101 0.0298 ... 0.0032 0.0062 0.0067]\n",
            " [0.0522 0.0437 0.018  ... 0.0138 0.0077 0.0031]\n",
            " [0.0303 0.0353 0.049  ... 0.0079 0.0036 0.0048]]\n"
          ]
        },
        {
          "output_type": "execute_result",
          "data": {
            "text/plain": [
              "'\\nfrom sklearn.preprocessing import LabelEncoder\\nen=LabelEncoder()\\nDATA[:,1]=en.fit_transform(DATA[:,1])\\n'"
            ],
            "application/vnd.google.colaboratory.intrinsic+json": {
              "type": "string"
            }
          },
          "metadata": {},
          "execution_count": 184
        }
      ]
    },
    {
      "cell_type": "code",
      "source": [
        "label=[]\n",
        "for i in range(1,len(DATA1)+1):\n",
        "  if i<50:\n",
        "    label.append(0)\n",
        "  elif i>=50 and i<=90:\n",
        "    label.append(-1)\n",
        "  elif i>90 and i<=160:\n",
        "    label.append(0)\n",
        "  else:\n",
        "    label.append(1)\n",
        "  \n",
        "print(label)\n",
        "    \n",
        "  "
      ],
      "metadata": {
        "colab": {
          "base_uri": "https://localhost:8080/"
        },
        "id": "hnLXeyqxJ-dl",
        "outputId": "04d3fef5-76df-4998-9f89-db9d70215291"
      },
      "execution_count": 185,
      "outputs": [
        {
          "output_type": "stream",
          "name": "stdout",
          "text": [
            "[0, 0, 0, 0, 0, 0, 0, 0, 0, 0, 0, 0, 0, 0, 0, 0, 0, 0, 0, 0, 0, 0, 0, 0, 0, 0, 0, 0, 0, 0, 0, 0, 0, 0, 0, 0, 0, 0, 0, 0, 0, 0, 0, 0, 0, 0, 0, 0, 0, -1, -1, -1, -1, -1, -1, -1, -1, -1, -1, -1, -1, -1, -1, -1, -1, -1, -1, -1, -1, -1, -1, -1, -1, -1, -1, -1, -1, -1, -1, -1, -1, -1, -1, -1, -1, -1, -1, -1, -1, -1, 0, 0, 0, 0, 0, 0, 0, 0, 0, 0, 0, 0, 0, 0, 0, 0, 0, 0, 0, 0, 0, 0, 0, 0, 0, 0, 0, 0, 0, 0, 0, 0, 0, 0, 0, 0, 0, 0, 0, 0, 0, 0, 0, 0, 0, 0, 0, 0, 0, 0, 0, 0, 0, 0, 0, 0, 0, 0, 0, 0, 0, 0, 0, 0, 0, 0, 0, 0, 0, 0, 1, 1, 1, 1, 1, 1, 1, 1, 1, 1, 1, 1, 1, 1, 1, 1, 1, 1, 1, 1, 1, 1, 1, 1, 1, 1, 1, 1, 1, 1, 1, 1, 1, 1, 1, 1, 1, 1, 1, 1, 1, 1, 1, 1, 1, 1]\n"
          ]
        }
      ]
    },
    {
      "cell_type": "code",
      "source": [
        "print(perceptron_plot(DATA1,label))"
      ],
      "metadata": {
        "colab": {
          "base_uri": "https://localhost:8080/",
          "height": 462
        },
        "id": "_fb4dRLMKx4k",
        "outputId": "be0407d9-1966-4d71-dca1-a17a7ec20ac5"
      },
      "execution_count": 213,
      "outputs": [
        {
          "output_type": "stream",
          "name": "stdout",
          "text": [
            "[-1.1550e-01 -4.4060e-01 -1.1080e-01 -4.9400e-02  1.9320e-01 -2.3600e-01\n",
            " -3.4950e-01  1.9780e-01  3.3292e+00  3.7952e+00  2.5543e+00  2.8350e+00\n",
            " -2.5560e-01 -2.1358e+00 -3.1694e+00 -8.5850e-01 -8.5470e-01  1.7475e+00\n",
            "  1.3277e+00  3.7000e-03 -7.6900e-01 -1.0803e+00  3.5535e+00  3.5819e+00\n",
            " -2.2550e-01 -2.6256e+00 -2.5192e+00 -1.1654e+00 -8.6690e-01 -2.0680e-01\n",
            " -1.0071e+00 -1.0943e+00  2.3190e-01  2.0226e+00  3.6840e-01 -2.3782e+00\n",
            " -2.8482e+00 -2.7961e+00  9.5400e-02  4.4559e+00  5.0203e+00  3.7185e+00\n",
            "  3.2957e+00  3.9268e+00  4.2207e+00  4.2071e+00  3.7977e+00  2.6513e+00\n",
            "  1.4751e+00  5.1230e-01  2.7330e-01  1.0610e-01 -1.7800e-01 -3.9000e-02\n",
            " -1.7360e-01 -3.9500e-02 -1.2300e-02 -1.2650e-01 -8.5900e-02 -6.6400e-02]\n"
          ]
        },
        {
          "output_type": "display_data",
          "data": {
            "text/plain": [
              "<Figure size 432x288 with 1 Axes>"
            ],
            "image/png": "[encoded data removed]"
          },
          "metadata": {
            "needs_background": "light"
          }
        }
      ]
    }
  ]
}